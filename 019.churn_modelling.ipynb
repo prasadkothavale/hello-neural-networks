{
 "cells": [
  {
   "cell_type": "markdown",
   "metadata": {
    "id": "lP6JLo1tGNBg"
   },
   "source": [
    "# Artificial Neural Network"
   ]
  },
  {
   "cell_type": "markdown",
   "metadata": {
    "id": "gWZyYmS_UE_L"
   },
   "source": [
    "### Importing the libraries"
   ]
  },
  {
   "cell_type": "code",
   "execution_count": 1,
   "metadata": {
    "executionInfo": {
     "elapsed": 4190,
     "status": "ok",
     "timestamp": 1722676507331,
     "user": {
      "displayName": "Prasad Kothavale",
      "userId": "10495584458443329463"
     },
     "user_tz": -60
    },
    "id": "MxkJoQBkUIHC"
   },
   "outputs": [
    {
     "name": "stderr",
     "output_type": "stream",
     "text": [
      "2024-08-11 09:52:33.222780: I tensorflow/stream_executor/platform/default/dso_loader.cc:49] Successfully opened dynamic library libcudart.so.10.1\n"
     ]
    }
   ],
   "source": [
    "import numpy as np\n",
    "import pandas as pd\n",
    "import tensorflow as tf\n",
    "import matplotlib.pyplot as plt"
   ]
  },
  {
   "cell_type": "code",
   "execution_count": 2,
   "metadata": {
    "colab": {
     "base_uri": "https://localhost:8080/",
     "height": 35
    },
    "executionInfo": {
     "elapsed": 387,
     "status": "ok",
     "timestamp": 1722676510306,
     "user": {
      "displayName": "Prasad Kothavale",
      "userId": "10495584458443329463"
     },
     "user_tz": -60
    },
    "id": "ZaTwK7ojXr2F",
    "outputId": "d50f85a2-7b8b-4892-9245-910c1ef43951"
   },
   "outputs": [
    {
     "data": {
      "text/plain": [
       "'2.4.1'"
      ]
     },
     "execution_count": 2,
     "metadata": {},
     "output_type": "execute_result"
    }
   ],
   "source": [
    "tf.__version__"
   ]
  },
  {
   "cell_type": "markdown",
   "metadata": {
    "id": "1E0Q3aoKUCRX"
   },
   "source": [
    "## Part 1 - Data Preprocessing"
   ]
  },
  {
   "cell_type": "markdown",
   "metadata": {
    "id": "cKWAkFVGUU0Z"
   },
   "source": [
    "### Importing the dataset"
   ]
  },
  {
   "cell_type": "code",
   "execution_count": 3,
   "metadata": {
    "executionInfo": {
     "elapsed": 372,
     "status": "ok",
     "timestamp": 1722676555473,
     "user": {
      "displayName": "Prasad Kothavale",
      "userId": "10495584458443329463"
     },
     "user_tz": -60
    },
    "id": "MXUkhkMfU4wq"
   },
   "outputs": [],
   "source": [
    "dataset = pd.read_csv('019.Churn_Modelling.csv')\n",
    "X = dataset.iloc[:, 3:-1].values\n",
    "y = dataset.iloc[:, -1].values"
   ]
  },
  {
   "cell_type": "code",
   "execution_count": 4,
   "metadata": {
    "colab": {
     "base_uri": "https://localhost:8080/",
     "height": 424
    },
    "executionInfo": {
     "elapsed": 276,
     "status": "ok",
     "timestamp": 1722196671931,
     "user": {
      "displayName": "Prasad Kothavale",
      "userId": "10495584458443329463"
     },
     "user_tz": -60
    },
    "id": "VYP9cQTWbzuI",
    "outputId": "864435a3-6f6c-4267-c3ef-0b8475cf5fb0"
   },
   "outputs": [
    {
     "data": {
      "text/html": [
       "<div>\n",
       "<style scoped>\n",
       "    .dataframe tbody tr th:only-of-type {\n",
       "        vertical-align: middle;\n",
       "    }\n",
       "\n",
       "    .dataframe tbody tr th {\n",
       "        vertical-align: top;\n",
       "    }\n",
       "\n",
       "    .dataframe thead th {\n",
       "        text-align: right;\n",
       "    }\n",
       "</style>\n",
       "<table border=\"1\" class=\"dataframe\">\n",
       "  <thead>\n",
       "    <tr style=\"text-align: right;\">\n",
       "      <th></th>\n",
       "      <th>CreditScore</th>\n",
       "      <th>Geography</th>\n",
       "      <th>Gender</th>\n",
       "      <th>Age</th>\n",
       "      <th>Tenure</th>\n",
       "      <th>Balance</th>\n",
       "      <th>NumOfProducts</th>\n",
       "      <th>HasCrCard</th>\n",
       "      <th>IsActiveMember</th>\n",
       "      <th>EstimatedSalary</th>\n",
       "    </tr>\n",
       "  </thead>\n",
       "  <tbody>\n",
       "    <tr>\n",
       "      <th>0</th>\n",
       "      <td>619</td>\n",
       "      <td>France</td>\n",
       "      <td>Female</td>\n",
       "      <td>42</td>\n",
       "      <td>2</td>\n",
       "      <td>0.0</td>\n",
       "      <td>1</td>\n",
       "      <td>1</td>\n",
       "      <td>1</td>\n",
       "      <td>101348.88</td>\n",
       "    </tr>\n",
       "    <tr>\n",
       "      <th>1</th>\n",
       "      <td>608</td>\n",
       "      <td>Spain</td>\n",
       "      <td>Female</td>\n",
       "      <td>41</td>\n",
       "      <td>1</td>\n",
       "      <td>83807.86</td>\n",
       "      <td>1</td>\n",
       "      <td>0</td>\n",
       "      <td>1</td>\n",
       "      <td>112542.58</td>\n",
       "    </tr>\n",
       "    <tr>\n",
       "      <th>2</th>\n",
       "      <td>502</td>\n",
       "      <td>France</td>\n",
       "      <td>Female</td>\n",
       "      <td>42</td>\n",
       "      <td>8</td>\n",
       "      <td>159660.8</td>\n",
       "      <td>3</td>\n",
       "      <td>1</td>\n",
       "      <td>0</td>\n",
       "      <td>113931.57</td>\n",
       "    </tr>\n",
       "    <tr>\n",
       "      <th>3</th>\n",
       "      <td>699</td>\n",
       "      <td>France</td>\n",
       "      <td>Female</td>\n",
       "      <td>39</td>\n",
       "      <td>1</td>\n",
       "      <td>0.0</td>\n",
       "      <td>2</td>\n",
       "      <td>0</td>\n",
       "      <td>0</td>\n",
       "      <td>93826.63</td>\n",
       "    </tr>\n",
       "    <tr>\n",
       "      <th>4</th>\n",
       "      <td>850</td>\n",
       "      <td>Spain</td>\n",
       "      <td>Female</td>\n",
       "      <td>43</td>\n",
       "      <td>2</td>\n",
       "      <td>125510.82</td>\n",
       "      <td>1</td>\n",
       "      <td>1</td>\n",
       "      <td>1</td>\n",
       "      <td>79084.1</td>\n",
       "    </tr>\n",
       "    <tr>\n",
       "      <th>...</th>\n",
       "      <td>...</td>\n",
       "      <td>...</td>\n",
       "      <td>...</td>\n",
       "      <td>...</td>\n",
       "      <td>...</td>\n",
       "      <td>...</td>\n",
       "      <td>...</td>\n",
       "      <td>...</td>\n",
       "      <td>...</td>\n",
       "      <td>...</td>\n",
       "    </tr>\n",
       "    <tr>\n",
       "      <th>9995</th>\n",
       "      <td>771</td>\n",
       "      <td>France</td>\n",
       "      <td>Male</td>\n",
       "      <td>39</td>\n",
       "      <td>5</td>\n",
       "      <td>0.0</td>\n",
       "      <td>2</td>\n",
       "      <td>1</td>\n",
       "      <td>0</td>\n",
       "      <td>96270.64</td>\n",
       "    </tr>\n",
       "    <tr>\n",
       "      <th>9996</th>\n",
       "      <td>516</td>\n",
       "      <td>France</td>\n",
       "      <td>Male</td>\n",
       "      <td>35</td>\n",
       "      <td>10</td>\n",
       "      <td>57369.61</td>\n",
       "      <td>1</td>\n",
       "      <td>1</td>\n",
       "      <td>1</td>\n",
       "      <td>101699.77</td>\n",
       "    </tr>\n",
       "    <tr>\n",
       "      <th>9997</th>\n",
       "      <td>709</td>\n",
       "      <td>France</td>\n",
       "      <td>Female</td>\n",
       "      <td>36</td>\n",
       "      <td>7</td>\n",
       "      <td>0.0</td>\n",
       "      <td>1</td>\n",
       "      <td>0</td>\n",
       "      <td>1</td>\n",
       "      <td>42085.58</td>\n",
       "    </tr>\n",
       "    <tr>\n",
       "      <th>9998</th>\n",
       "      <td>772</td>\n",
       "      <td>Germany</td>\n",
       "      <td>Male</td>\n",
       "      <td>42</td>\n",
       "      <td>3</td>\n",
       "      <td>75075.31</td>\n",
       "      <td>2</td>\n",
       "      <td>1</td>\n",
       "      <td>0</td>\n",
       "      <td>92888.52</td>\n",
       "    </tr>\n",
       "    <tr>\n",
       "      <th>9999</th>\n",
       "      <td>792</td>\n",
       "      <td>France</td>\n",
       "      <td>Female</td>\n",
       "      <td>28</td>\n",
       "      <td>4</td>\n",
       "      <td>130142.79</td>\n",
       "      <td>1</td>\n",
       "      <td>1</td>\n",
       "      <td>0</td>\n",
       "      <td>38190.78</td>\n",
       "    </tr>\n",
       "  </tbody>\n",
       "</table>\n",
       "<p>10000 rows × 10 columns</p>\n",
       "</div>"
      ],
      "text/plain": [
       "     CreditScore Geography  Gender Age Tenure    Balance NumOfProducts  \\\n",
       "0            619    France  Female  42      2        0.0             1   \n",
       "1            608     Spain  Female  41      1   83807.86             1   \n",
       "2            502    France  Female  42      8   159660.8             3   \n",
       "3            699    France  Female  39      1        0.0             2   \n",
       "4            850     Spain  Female  43      2  125510.82             1   \n",
       "...          ...       ...     ...  ..    ...        ...           ...   \n",
       "9995         771    France    Male  39      5        0.0             2   \n",
       "9996         516    France    Male  35     10   57369.61             1   \n",
       "9997         709    France  Female  36      7        0.0             1   \n",
       "9998         772   Germany    Male  42      3   75075.31             2   \n",
       "9999         792    France  Female  28      4  130142.79             1   \n",
       "\n",
       "     HasCrCard IsActiveMember EstimatedSalary  \n",
       "0            1              1       101348.88  \n",
       "1            0              1       112542.58  \n",
       "2            1              0       113931.57  \n",
       "3            0              0        93826.63  \n",
       "4            1              1         79084.1  \n",
       "...        ...            ...             ...  \n",
       "9995         1              0        96270.64  \n",
       "9996         1              1       101699.77  \n",
       "9997         0              1        42085.58  \n",
       "9998         1              0        92888.52  \n",
       "9999         1              0        38190.78  \n",
       "\n",
       "[10000 rows x 10 columns]"
      ]
     },
     "execution_count": 4,
     "metadata": {},
     "output_type": "execute_result"
    }
   ],
   "source": [
    "pd.DataFrame(X, columns=dataset.columns[3:-1])"
   ]
  },
  {
   "cell_type": "code",
   "execution_count": 5,
   "metadata": {
    "colab": {
     "base_uri": "https://localhost:8080/",
     "height": 424
    },
    "executionInfo": {
     "elapsed": 385,
     "status": "ok",
     "timestamp": 1722676561534,
     "user": {
      "displayName": "Prasad Kothavale",
      "userId": "10495584458443329463"
     },
     "user_tz": -60
    },
    "id": "38vKGE6Nb2RR",
    "outputId": "1f80de71-15e9-46f5-fc39-80e297c77c6d"
   },
   "outputs": [
    {
     "data": {
      "text/html": [
       "<div>\n",
       "<style scoped>\n",
       "    .dataframe tbody tr th:only-of-type {\n",
       "        vertical-align: middle;\n",
       "    }\n",
       "\n",
       "    .dataframe tbody tr th {\n",
       "        vertical-align: top;\n",
       "    }\n",
       "\n",
       "    .dataframe thead th {\n",
       "        text-align: right;\n",
       "    }\n",
       "</style>\n",
       "<table border=\"1\" class=\"dataframe\">\n",
       "  <thead>\n",
       "    <tr style=\"text-align: right;\">\n",
       "      <th></th>\n",
       "      <th>0</th>\n",
       "    </tr>\n",
       "  </thead>\n",
       "  <tbody>\n",
       "    <tr>\n",
       "      <th>0</th>\n",
       "      <td>1</td>\n",
       "    </tr>\n",
       "    <tr>\n",
       "      <th>1</th>\n",
       "      <td>0</td>\n",
       "    </tr>\n",
       "    <tr>\n",
       "      <th>2</th>\n",
       "      <td>1</td>\n",
       "    </tr>\n",
       "    <tr>\n",
       "      <th>3</th>\n",
       "      <td>0</td>\n",
       "    </tr>\n",
       "    <tr>\n",
       "      <th>4</th>\n",
       "      <td>0</td>\n",
       "    </tr>\n",
       "    <tr>\n",
       "      <th>...</th>\n",
       "      <td>...</td>\n",
       "    </tr>\n",
       "    <tr>\n",
       "      <th>9995</th>\n",
       "      <td>0</td>\n",
       "    </tr>\n",
       "    <tr>\n",
       "      <th>9996</th>\n",
       "      <td>0</td>\n",
       "    </tr>\n",
       "    <tr>\n",
       "      <th>9997</th>\n",
       "      <td>1</td>\n",
       "    </tr>\n",
       "    <tr>\n",
       "      <th>9998</th>\n",
       "      <td>1</td>\n",
       "    </tr>\n",
       "    <tr>\n",
       "      <th>9999</th>\n",
       "      <td>0</td>\n",
       "    </tr>\n",
       "  </tbody>\n",
       "</table>\n",
       "<p>10000 rows × 1 columns</p>\n",
       "</div>"
      ],
      "text/plain": [
       "      0\n",
       "0     1\n",
       "1     0\n",
       "2     1\n",
       "3     0\n",
       "4     0\n",
       "...  ..\n",
       "9995  0\n",
       "9996  0\n",
       "9997  1\n",
       "9998  1\n",
       "9999  0\n",
       "\n",
       "[10000 rows x 1 columns]"
      ]
     },
     "execution_count": 5,
     "metadata": {},
     "output_type": "execute_result"
    }
   ],
   "source": [
    "pd.DataFrame(y)"
   ]
  },
  {
   "cell_type": "markdown",
   "metadata": {
    "id": "N6bQ0UgSU-NJ"
   },
   "source": [
    "### Encoding categorical data"
   ]
  },
  {
   "cell_type": "markdown",
   "metadata": {
    "id": "le5MJreAbW52"
   },
   "source": [
    "#### Label Encoding the \"Gender\" column"
   ]
  },
  {
   "cell_type": "code",
   "execution_count": 6,
   "metadata": {
    "executionInfo": {
     "elapsed": 1479,
     "status": "ok",
     "timestamp": 1722676571466,
     "user": {
      "displayName": "Prasad Kothavale",
      "userId": "10495584458443329463"
     },
     "user_tz": -60
    },
    "id": "PxVKWXxLbczC"
   },
   "outputs": [],
   "source": [
    "from sklearn.preprocessing import LabelEncoder\n",
    "le = LabelEncoder()\n",
    "X[:, 2] = le.fit_transform(X[:, 2])"
   ]
  },
  {
   "cell_type": "code",
   "execution_count": 7,
   "metadata": {
    "colab": {
     "base_uri": "https://localhost:8080/",
     "height": 424
    },
    "executionInfo": {
     "elapsed": 5,
     "status": "ok",
     "timestamp": 1722676571467,
     "user": {
      "displayName": "Prasad Kothavale",
      "userId": "10495584458443329463"
     },
     "user_tz": -60
    },
    "id": "-M1KboxFb6OO",
    "outputId": "f6fbe85e-81c9-48be-d0ff-ad44d5d75f7e"
   },
   "outputs": [
    {
     "data": {
      "text/html": [
       "<div>\n",
       "<style scoped>\n",
       "    .dataframe tbody tr th:only-of-type {\n",
       "        vertical-align: middle;\n",
       "    }\n",
       "\n",
       "    .dataframe tbody tr th {\n",
       "        vertical-align: top;\n",
       "    }\n",
       "\n",
       "    .dataframe thead th {\n",
       "        text-align: right;\n",
       "    }\n",
       "</style>\n",
       "<table border=\"1\" class=\"dataframe\">\n",
       "  <thead>\n",
       "    <tr style=\"text-align: right;\">\n",
       "      <th></th>\n",
       "      <th>CreditScore</th>\n",
       "      <th>Geography</th>\n",
       "      <th>Gender</th>\n",
       "      <th>Age</th>\n",
       "      <th>Tenure</th>\n",
       "      <th>Balance</th>\n",
       "      <th>NumOfProducts</th>\n",
       "      <th>HasCrCard</th>\n",
       "      <th>IsActiveMember</th>\n",
       "      <th>EstimatedSalary</th>\n",
       "    </tr>\n",
       "  </thead>\n",
       "  <tbody>\n",
       "    <tr>\n",
       "      <th>0</th>\n",
       "      <td>619</td>\n",
       "      <td>France</td>\n",
       "      <td>0</td>\n",
       "      <td>42</td>\n",
       "      <td>2</td>\n",
       "      <td>0.0</td>\n",
       "      <td>1</td>\n",
       "      <td>1</td>\n",
       "      <td>1</td>\n",
       "      <td>101348.88</td>\n",
       "    </tr>\n",
       "    <tr>\n",
       "      <th>1</th>\n",
       "      <td>608</td>\n",
       "      <td>Spain</td>\n",
       "      <td>0</td>\n",
       "      <td>41</td>\n",
       "      <td>1</td>\n",
       "      <td>83807.86</td>\n",
       "      <td>1</td>\n",
       "      <td>0</td>\n",
       "      <td>1</td>\n",
       "      <td>112542.58</td>\n",
       "    </tr>\n",
       "    <tr>\n",
       "      <th>2</th>\n",
       "      <td>502</td>\n",
       "      <td>France</td>\n",
       "      <td>0</td>\n",
       "      <td>42</td>\n",
       "      <td>8</td>\n",
       "      <td>159660.8</td>\n",
       "      <td>3</td>\n",
       "      <td>1</td>\n",
       "      <td>0</td>\n",
       "      <td>113931.57</td>\n",
       "    </tr>\n",
       "    <tr>\n",
       "      <th>3</th>\n",
       "      <td>699</td>\n",
       "      <td>France</td>\n",
       "      <td>0</td>\n",
       "      <td>39</td>\n",
       "      <td>1</td>\n",
       "      <td>0.0</td>\n",
       "      <td>2</td>\n",
       "      <td>0</td>\n",
       "      <td>0</td>\n",
       "      <td>93826.63</td>\n",
       "    </tr>\n",
       "    <tr>\n",
       "      <th>4</th>\n",
       "      <td>850</td>\n",
       "      <td>Spain</td>\n",
       "      <td>0</td>\n",
       "      <td>43</td>\n",
       "      <td>2</td>\n",
       "      <td>125510.82</td>\n",
       "      <td>1</td>\n",
       "      <td>1</td>\n",
       "      <td>1</td>\n",
       "      <td>79084.1</td>\n",
       "    </tr>\n",
       "    <tr>\n",
       "      <th>...</th>\n",
       "      <td>...</td>\n",
       "      <td>...</td>\n",
       "      <td>...</td>\n",
       "      <td>...</td>\n",
       "      <td>...</td>\n",
       "      <td>...</td>\n",
       "      <td>...</td>\n",
       "      <td>...</td>\n",
       "      <td>...</td>\n",
       "      <td>...</td>\n",
       "    </tr>\n",
       "    <tr>\n",
       "      <th>9995</th>\n",
       "      <td>771</td>\n",
       "      <td>France</td>\n",
       "      <td>1</td>\n",
       "      <td>39</td>\n",
       "      <td>5</td>\n",
       "      <td>0.0</td>\n",
       "      <td>2</td>\n",
       "      <td>1</td>\n",
       "      <td>0</td>\n",
       "      <td>96270.64</td>\n",
       "    </tr>\n",
       "    <tr>\n",
       "      <th>9996</th>\n",
       "      <td>516</td>\n",
       "      <td>France</td>\n",
       "      <td>1</td>\n",
       "      <td>35</td>\n",
       "      <td>10</td>\n",
       "      <td>57369.61</td>\n",
       "      <td>1</td>\n",
       "      <td>1</td>\n",
       "      <td>1</td>\n",
       "      <td>101699.77</td>\n",
       "    </tr>\n",
       "    <tr>\n",
       "      <th>9997</th>\n",
       "      <td>709</td>\n",
       "      <td>France</td>\n",
       "      <td>0</td>\n",
       "      <td>36</td>\n",
       "      <td>7</td>\n",
       "      <td>0.0</td>\n",
       "      <td>1</td>\n",
       "      <td>0</td>\n",
       "      <td>1</td>\n",
       "      <td>42085.58</td>\n",
       "    </tr>\n",
       "    <tr>\n",
       "      <th>9998</th>\n",
       "      <td>772</td>\n",
       "      <td>Germany</td>\n",
       "      <td>1</td>\n",
       "      <td>42</td>\n",
       "      <td>3</td>\n",
       "      <td>75075.31</td>\n",
       "      <td>2</td>\n",
       "      <td>1</td>\n",
       "      <td>0</td>\n",
       "      <td>92888.52</td>\n",
       "    </tr>\n",
       "    <tr>\n",
       "      <th>9999</th>\n",
       "      <td>792</td>\n",
       "      <td>France</td>\n",
       "      <td>0</td>\n",
       "      <td>28</td>\n",
       "      <td>4</td>\n",
       "      <td>130142.79</td>\n",
       "      <td>1</td>\n",
       "      <td>1</td>\n",
       "      <td>0</td>\n",
       "      <td>38190.78</td>\n",
       "    </tr>\n",
       "  </tbody>\n",
       "</table>\n",
       "<p>10000 rows × 10 columns</p>\n",
       "</div>"
      ],
      "text/plain": [
       "     CreditScore Geography Gender Age Tenure    Balance NumOfProducts  \\\n",
       "0            619    France      0  42      2        0.0             1   \n",
       "1            608     Spain      0  41      1   83807.86             1   \n",
       "2            502    France      0  42      8   159660.8             3   \n",
       "3            699    France      0  39      1        0.0             2   \n",
       "4            850     Spain      0  43      2  125510.82             1   \n",
       "...          ...       ...    ...  ..    ...        ...           ...   \n",
       "9995         771    France      1  39      5        0.0             2   \n",
       "9996         516    France      1  35     10   57369.61             1   \n",
       "9997         709    France      0  36      7        0.0             1   \n",
       "9998         772   Germany      1  42      3   75075.31             2   \n",
       "9999         792    France      0  28      4  130142.79             1   \n",
       "\n",
       "     HasCrCard IsActiveMember EstimatedSalary  \n",
       "0            1              1       101348.88  \n",
       "1            0              1       112542.58  \n",
       "2            1              0       113931.57  \n",
       "3            0              0        93826.63  \n",
       "4            1              1         79084.1  \n",
       "...        ...            ...             ...  \n",
       "9995         1              0        96270.64  \n",
       "9996         1              1       101699.77  \n",
       "9997         0              1        42085.58  \n",
       "9998         1              0        92888.52  \n",
       "9999         1              0        38190.78  \n",
       "\n",
       "[10000 rows x 10 columns]"
      ]
     },
     "execution_count": 7,
     "metadata": {},
     "output_type": "execute_result"
    }
   ],
   "source": [
    "pd.DataFrame(X, columns=dataset.columns[3:-1])"
   ]
  },
  {
   "cell_type": "markdown",
   "metadata": {
    "id": "CUxGZezpbMcb"
   },
   "source": [
    "#### One Hot Encoding the \"Geography\" column"
   ]
  },
  {
   "cell_type": "code",
   "execution_count": 8,
   "metadata": {
    "executionInfo": {
     "elapsed": 385,
     "status": "ok",
     "timestamp": 1722676579398,
     "user": {
      "displayName": "Prasad Kothavale",
      "userId": "10495584458443329463"
     },
     "user_tz": -60
    },
    "id": "AMXC8-KMVirw"
   },
   "outputs": [],
   "source": [
    "from sklearn.compose import ColumnTransformer\n",
    "from sklearn.preprocessing import OneHotEncoder\n",
    "ct = ColumnTransformer(transformers=[('encoder', OneHotEncoder(), [1])], remainder='passthrough')\n",
    "X = np.array(ct.fit_transform(X))"
   ]
  },
  {
   "cell_type": "code",
   "execution_count": 9,
   "metadata": {
    "colab": {
     "base_uri": "https://localhost:8080/",
     "height": 424
    },
    "executionInfo": {
     "elapsed": 550,
     "status": "ok",
     "timestamp": 1722676700748,
     "user": {
      "displayName": "Prasad Kothavale",
      "userId": "10495584458443329463"
     },
     "user_tz": -60
    },
    "id": "ZcxwEon-b8nV",
    "outputId": "5b2e5a62-414d-4d32-cd79-69442832164e"
   },
   "outputs": [
    {
     "data": {
      "text/html": [
       "<div>\n",
       "<style scoped>\n",
       "    .dataframe tbody tr th:only-of-type {\n",
       "        vertical-align: middle;\n",
       "    }\n",
       "\n",
       "    .dataframe tbody tr th {\n",
       "        vertical-align: top;\n",
       "    }\n",
       "\n",
       "    .dataframe thead th {\n",
       "        text-align: right;\n",
       "    }\n",
       "</style>\n",
       "<table border=\"1\" class=\"dataframe\">\n",
       "  <thead>\n",
       "    <tr style=\"text-align: right;\">\n",
       "      <th></th>\n",
       "      <th>Geography [0]</th>\n",
       "      <th>Geography [1]</th>\n",
       "      <th>Geography [2]</th>\n",
       "      <th>CreditScore</th>\n",
       "      <th>Gender</th>\n",
       "      <th>Age</th>\n",
       "      <th>Tenure</th>\n",
       "      <th>Balance</th>\n",
       "      <th>NumOfProducts</th>\n",
       "      <th>HasCrCard</th>\n",
       "      <th>IsActiveMember</th>\n",
       "      <th>EstimatedSalary</th>\n",
       "    </tr>\n",
       "  </thead>\n",
       "  <tbody>\n",
       "    <tr>\n",
       "      <th>0</th>\n",
       "      <td>1.0</td>\n",
       "      <td>0.0</td>\n",
       "      <td>0.0</td>\n",
       "      <td>619</td>\n",
       "      <td>0</td>\n",
       "      <td>42</td>\n",
       "      <td>2</td>\n",
       "      <td>0.0</td>\n",
       "      <td>1</td>\n",
       "      <td>1</td>\n",
       "      <td>1</td>\n",
       "      <td>101348.88</td>\n",
       "    </tr>\n",
       "    <tr>\n",
       "      <th>1</th>\n",
       "      <td>0.0</td>\n",
       "      <td>0.0</td>\n",
       "      <td>1.0</td>\n",
       "      <td>608</td>\n",
       "      <td>0</td>\n",
       "      <td>41</td>\n",
       "      <td>1</td>\n",
       "      <td>83807.86</td>\n",
       "      <td>1</td>\n",
       "      <td>0</td>\n",
       "      <td>1</td>\n",
       "      <td>112542.58</td>\n",
       "    </tr>\n",
       "    <tr>\n",
       "      <th>2</th>\n",
       "      <td>1.0</td>\n",
       "      <td>0.0</td>\n",
       "      <td>0.0</td>\n",
       "      <td>502</td>\n",
       "      <td>0</td>\n",
       "      <td>42</td>\n",
       "      <td>8</td>\n",
       "      <td>159660.8</td>\n",
       "      <td>3</td>\n",
       "      <td>1</td>\n",
       "      <td>0</td>\n",
       "      <td>113931.57</td>\n",
       "    </tr>\n",
       "    <tr>\n",
       "      <th>3</th>\n",
       "      <td>1.0</td>\n",
       "      <td>0.0</td>\n",
       "      <td>0.0</td>\n",
       "      <td>699</td>\n",
       "      <td>0</td>\n",
       "      <td>39</td>\n",
       "      <td>1</td>\n",
       "      <td>0.0</td>\n",
       "      <td>2</td>\n",
       "      <td>0</td>\n",
       "      <td>0</td>\n",
       "      <td>93826.63</td>\n",
       "    </tr>\n",
       "    <tr>\n",
       "      <th>4</th>\n",
       "      <td>0.0</td>\n",
       "      <td>0.0</td>\n",
       "      <td>1.0</td>\n",
       "      <td>850</td>\n",
       "      <td>0</td>\n",
       "      <td>43</td>\n",
       "      <td>2</td>\n",
       "      <td>125510.82</td>\n",
       "      <td>1</td>\n",
       "      <td>1</td>\n",
       "      <td>1</td>\n",
       "      <td>79084.1</td>\n",
       "    </tr>\n",
       "    <tr>\n",
       "      <th>...</th>\n",
       "      <td>...</td>\n",
       "      <td>...</td>\n",
       "      <td>...</td>\n",
       "      <td>...</td>\n",
       "      <td>...</td>\n",
       "      <td>...</td>\n",
       "      <td>...</td>\n",
       "      <td>...</td>\n",
       "      <td>...</td>\n",
       "      <td>...</td>\n",
       "      <td>...</td>\n",
       "      <td>...</td>\n",
       "    </tr>\n",
       "    <tr>\n",
       "      <th>9995</th>\n",
       "      <td>1.0</td>\n",
       "      <td>0.0</td>\n",
       "      <td>0.0</td>\n",
       "      <td>771</td>\n",
       "      <td>1</td>\n",
       "      <td>39</td>\n",
       "      <td>5</td>\n",
       "      <td>0.0</td>\n",
       "      <td>2</td>\n",
       "      <td>1</td>\n",
       "      <td>0</td>\n",
       "      <td>96270.64</td>\n",
       "    </tr>\n",
       "    <tr>\n",
       "      <th>9996</th>\n",
       "      <td>1.0</td>\n",
       "      <td>0.0</td>\n",
       "      <td>0.0</td>\n",
       "      <td>516</td>\n",
       "      <td>1</td>\n",
       "      <td>35</td>\n",
       "      <td>10</td>\n",
       "      <td>57369.61</td>\n",
       "      <td>1</td>\n",
       "      <td>1</td>\n",
       "      <td>1</td>\n",
       "      <td>101699.77</td>\n",
       "    </tr>\n",
       "    <tr>\n",
       "      <th>9997</th>\n",
       "      <td>1.0</td>\n",
       "      <td>0.0</td>\n",
       "      <td>0.0</td>\n",
       "      <td>709</td>\n",
       "      <td>0</td>\n",
       "      <td>36</td>\n",
       "      <td>7</td>\n",
       "      <td>0.0</td>\n",
       "      <td>1</td>\n",
       "      <td>0</td>\n",
       "      <td>1</td>\n",
       "      <td>42085.58</td>\n",
       "    </tr>\n",
       "    <tr>\n",
       "      <th>9998</th>\n",
       "      <td>0.0</td>\n",
       "      <td>1.0</td>\n",
       "      <td>0.0</td>\n",
       "      <td>772</td>\n",
       "      <td>1</td>\n",
       "      <td>42</td>\n",
       "      <td>3</td>\n",
       "      <td>75075.31</td>\n",
       "      <td>2</td>\n",
       "      <td>1</td>\n",
       "      <td>0</td>\n",
       "      <td>92888.52</td>\n",
       "    </tr>\n",
       "    <tr>\n",
       "      <th>9999</th>\n",
       "      <td>1.0</td>\n",
       "      <td>0.0</td>\n",
       "      <td>0.0</td>\n",
       "      <td>792</td>\n",
       "      <td>0</td>\n",
       "      <td>28</td>\n",
       "      <td>4</td>\n",
       "      <td>130142.79</td>\n",
       "      <td>1</td>\n",
       "      <td>1</td>\n",
       "      <td>0</td>\n",
       "      <td>38190.78</td>\n",
       "    </tr>\n",
       "  </tbody>\n",
       "</table>\n",
       "<p>10000 rows × 12 columns</p>\n",
       "</div>"
      ],
      "text/plain": [
       "     Geography [0] Geography [1] Geography [2] CreditScore Gender Age Tenure  \\\n",
       "0              1.0           0.0           0.0         619      0  42      2   \n",
       "1              0.0           0.0           1.0         608      0  41      1   \n",
       "2              1.0           0.0           0.0         502      0  42      8   \n",
       "3              1.0           0.0           0.0         699      0  39      1   \n",
       "4              0.0           0.0           1.0         850      0  43      2   \n",
       "...            ...           ...           ...         ...    ...  ..    ...   \n",
       "9995           1.0           0.0           0.0         771      1  39      5   \n",
       "9996           1.0           0.0           0.0         516      1  35     10   \n",
       "9997           1.0           0.0           0.0         709      0  36      7   \n",
       "9998           0.0           1.0           0.0         772      1  42      3   \n",
       "9999           1.0           0.0           0.0         792      0  28      4   \n",
       "\n",
       "        Balance NumOfProducts HasCrCard IsActiveMember EstimatedSalary  \n",
       "0           0.0             1         1              1       101348.88  \n",
       "1      83807.86             1         0              1       112542.58  \n",
       "2      159660.8             3         1              0       113931.57  \n",
       "3           0.0             2         0              0        93826.63  \n",
       "4     125510.82             1         1              1         79084.1  \n",
       "...         ...           ...       ...            ...             ...  \n",
       "9995        0.0             2         1              0        96270.64  \n",
       "9996   57369.61             1         1              1       101699.77  \n",
       "9997        0.0             1         0              1        42085.58  \n",
       "9998   75075.31             2         1              0        92888.52  \n",
       "9999  130142.79             1         1              0        38190.78  \n",
       "\n",
       "[10000 rows x 12 columns]"
      ]
     },
     "execution_count": 9,
     "metadata": {},
     "output_type": "execute_result"
    }
   ],
   "source": [
    "columns = ['Geography [0]', 'Geography [1]', 'Geography [2]', 'CreditScore'] + list(dataset.columns[5:-1])\n",
    "pd.DataFrame(X, columns=columns)"
   ]
  },
  {
   "cell_type": "markdown",
   "metadata": {
    "id": "vHol938cW8zd"
   },
   "source": [
    "### Splitting the dataset into the Training set and Test set"
   ]
  },
  {
   "cell_type": "code",
   "execution_count": 10,
   "metadata": {
    "executionInfo": {
     "elapsed": 378,
     "status": "ok",
     "timestamp": 1722676584638,
     "user": {
      "displayName": "Prasad Kothavale",
      "userId": "10495584458443329463"
     },
     "user_tz": -60
    },
    "id": "Z-TDt0Y_XEfc"
   },
   "outputs": [],
   "source": [
    "from sklearn.model_selection import train_test_split\n",
    "X_train, X_test, y_train, y_test = train_test_split(X, y, test_size = 0.2, random_state = 0)"
   ]
  },
  {
   "cell_type": "markdown",
   "metadata": {
    "id": "RE_FcHyfV3TQ"
   },
   "source": [
    "### Feature Scaling"
   ]
  },
  {
   "cell_type": "code",
   "execution_count": 11,
   "metadata": {
    "executionInfo": {
     "elapsed": 354,
     "status": "ok",
     "timestamp": 1722676587062,
     "user": {
      "displayName": "Prasad Kothavale",
      "userId": "10495584458443329463"
     },
     "user_tz": -60
    },
    "id": "ViCrE00rV8Sk"
   },
   "outputs": [],
   "source": [
    "from sklearn.preprocessing import StandardScaler\n",
    "sc = StandardScaler()\n",
    "X_train = sc.fit_transform(X_train)\n",
    "X_test = sc.transform(X_test)"
   ]
  },
  {
   "cell_type": "code",
   "execution_count": 12,
   "metadata": {
    "colab": {
     "base_uri": "https://localhost:8080/",
     "height": 424
    },
    "executionInfo": {
     "elapsed": 564,
     "status": "ok",
     "timestamp": 1722676589399,
     "user": {
      "displayName": "Prasad Kothavale",
      "userId": "10495584458443329463"
     },
     "user_tz": -60
    },
    "id": "9-jLDt7fEkel",
    "outputId": "2ac29840-269c-4075-8e51-a028868e0afa"
   },
   "outputs": [
    {
     "data": {
      "text/html": [
       "<div>\n",
       "<style scoped>\n",
       "    .dataframe tbody tr th:only-of-type {\n",
       "        vertical-align: middle;\n",
       "    }\n",
       "\n",
       "    .dataframe tbody tr th {\n",
       "        vertical-align: top;\n",
       "    }\n",
       "\n",
       "    .dataframe thead th {\n",
       "        text-align: right;\n",
       "    }\n",
       "</style>\n",
       "<table border=\"1\" class=\"dataframe\">\n",
       "  <thead>\n",
       "    <tr style=\"text-align: right;\">\n",
       "      <th></th>\n",
       "      <th>Geography [0]</th>\n",
       "      <th>Geography [1]</th>\n",
       "      <th>Geography [2]</th>\n",
       "      <th>CreditScore</th>\n",
       "      <th>Gender</th>\n",
       "      <th>Age</th>\n",
       "      <th>Tenure</th>\n",
       "      <th>Balance</th>\n",
       "      <th>NumOfProducts</th>\n",
       "      <th>HasCrCard</th>\n",
       "      <th>IsActiveMember</th>\n",
       "      <th>EstimatedSalary</th>\n",
       "    </tr>\n",
       "  </thead>\n",
       "  <tbody>\n",
       "    <tr>\n",
       "      <th>0</th>\n",
       "      <td>-1.014607</td>\n",
       "      <td>-0.569844</td>\n",
       "      <td>1.743090</td>\n",
       "      <td>0.169582</td>\n",
       "      <td>-1.091687</td>\n",
       "      <td>-0.464608</td>\n",
       "      <td>0.006661</td>\n",
       "      <td>-1.215717</td>\n",
       "      <td>0.809503</td>\n",
       "      <td>0.642595</td>\n",
       "      <td>-1.032270</td>\n",
       "      <td>1.106432</td>\n",
       "    </tr>\n",
       "    <tr>\n",
       "      <th>1</th>\n",
       "      <td>-1.014607</td>\n",
       "      <td>1.754865</td>\n",
       "      <td>-0.573694</td>\n",
       "      <td>-2.304559</td>\n",
       "      <td>0.916013</td>\n",
       "      <td>0.301026</td>\n",
       "      <td>-1.377440</td>\n",
       "      <td>-0.006312</td>\n",
       "      <td>-0.921591</td>\n",
       "      <td>0.642595</td>\n",
       "      <td>0.968738</td>\n",
       "      <td>-0.748664</td>\n",
       "    </tr>\n",
       "    <tr>\n",
       "      <th>2</th>\n",
       "      <td>0.985604</td>\n",
       "      <td>-0.569844</td>\n",
       "      <td>-0.573694</td>\n",
       "      <td>-1.191196</td>\n",
       "      <td>-1.091687</td>\n",
       "      <td>-0.943129</td>\n",
       "      <td>-1.031415</td>\n",
       "      <td>0.579935</td>\n",
       "      <td>-0.921591</td>\n",
       "      <td>0.642595</td>\n",
       "      <td>-1.032270</td>\n",
       "      <td>1.485335</td>\n",
       "    </tr>\n",
       "    <tr>\n",
       "      <th>3</th>\n",
       "      <td>-1.014607</td>\n",
       "      <td>-0.569844</td>\n",
       "      <td>1.743090</td>\n",
       "      <td>0.035566</td>\n",
       "      <td>0.916013</td>\n",
       "      <td>0.109617</td>\n",
       "      <td>0.006661</td>\n",
       "      <td>0.473128</td>\n",
       "      <td>-0.921591</td>\n",
       "      <td>0.642595</td>\n",
       "      <td>-1.032270</td>\n",
       "      <td>1.276528</td>\n",
       "    </tr>\n",
       "    <tr>\n",
       "      <th>4</th>\n",
       "      <td>-1.014607</td>\n",
       "      <td>-0.569844</td>\n",
       "      <td>1.743090</td>\n",
       "      <td>2.056114</td>\n",
       "      <td>-1.091687</td>\n",
       "      <td>1.736588</td>\n",
       "      <td>1.044737</td>\n",
       "      <td>0.810193</td>\n",
       "      <td>0.809503</td>\n",
       "      <td>0.642595</td>\n",
       "      <td>0.968738</td>\n",
       "      <td>0.558378</td>\n",
       "    </tr>\n",
       "    <tr>\n",
       "      <th>...</th>\n",
       "      <td>...</td>\n",
       "      <td>...</td>\n",
       "      <td>...</td>\n",
       "      <td>...</td>\n",
       "      <td>...</td>\n",
       "      <td>...</td>\n",
       "      <td>...</td>\n",
       "      <td>...</td>\n",
       "      <td>...</td>\n",
       "      <td>...</td>\n",
       "      <td>...</td>\n",
       "      <td>...</td>\n",
       "    </tr>\n",
       "    <tr>\n",
       "      <th>7995</th>\n",
       "      <td>-1.014607</td>\n",
       "      <td>1.754865</td>\n",
       "      <td>-0.573694</td>\n",
       "      <td>-0.582970</td>\n",
       "      <td>-1.091687</td>\n",
       "      <td>-0.656016</td>\n",
       "      <td>-0.339364</td>\n",
       "      <td>0.703104</td>\n",
       "      <td>0.809503</td>\n",
       "      <td>0.642595</td>\n",
       "      <td>0.968738</td>\n",
       "      <td>1.091330</td>\n",
       "    </tr>\n",
       "    <tr>\n",
       "      <th>7996</th>\n",
       "      <td>-1.014607</td>\n",
       "      <td>-0.569844</td>\n",
       "      <td>1.743090</td>\n",
       "      <td>1.478815</td>\n",
       "      <td>-1.091687</td>\n",
       "      <td>-1.613058</td>\n",
       "      <td>-0.339364</td>\n",
       "      <td>0.613060</td>\n",
       "      <td>-0.921591</td>\n",
       "      <td>0.642595</td>\n",
       "      <td>0.968738</td>\n",
       "      <td>0.131760</td>\n",
       "    </tr>\n",
       "    <tr>\n",
       "      <th>7997</th>\n",
       "      <td>0.985604</td>\n",
       "      <td>-0.569844</td>\n",
       "      <td>-0.573694</td>\n",
       "      <td>0.901515</td>\n",
       "      <td>0.916013</td>\n",
       "      <td>-0.368904</td>\n",
       "      <td>0.006661</td>\n",
       "      <td>1.361474</td>\n",
       "      <td>0.809503</td>\n",
       "      <td>0.642595</td>\n",
       "      <td>-1.032270</td>\n",
       "      <td>1.412320</td>\n",
       "    </tr>\n",
       "    <tr>\n",
       "      <th>7998</th>\n",
       "      <td>-1.014607</td>\n",
       "      <td>-0.569844</td>\n",
       "      <td>1.743090</td>\n",
       "      <td>-0.624205</td>\n",
       "      <td>-1.091687</td>\n",
       "      <td>-0.081791</td>\n",
       "      <td>1.390762</td>\n",
       "      <td>-1.215717</td>\n",
       "      <td>0.809503</td>\n",
       "      <td>0.642595</td>\n",
       "      <td>0.968738</td>\n",
       "      <td>0.844321</td>\n",
       "    </tr>\n",
       "    <tr>\n",
       "      <th>7999</th>\n",
       "      <td>-1.014607</td>\n",
       "      <td>1.754865</td>\n",
       "      <td>-0.573694</td>\n",
       "      <td>-0.284011</td>\n",
       "      <td>-1.091687</td>\n",
       "      <td>0.875251</td>\n",
       "      <td>-1.377440</td>\n",
       "      <td>0.511364</td>\n",
       "      <td>-0.921591</td>\n",
       "      <td>0.642595</td>\n",
       "      <td>-1.032270</td>\n",
       "      <td>0.324725</td>\n",
       "    </tr>\n",
       "  </tbody>\n",
       "</table>\n",
       "<p>8000 rows × 12 columns</p>\n",
       "</div>"
      ],
      "text/plain": [
       "      Geography [0]  Geography [1]  Geography [2]  CreditScore    Gender  \\\n",
       "0         -1.014607      -0.569844       1.743090     0.169582 -1.091687   \n",
       "1         -1.014607       1.754865      -0.573694    -2.304559  0.916013   \n",
       "2          0.985604      -0.569844      -0.573694    -1.191196 -1.091687   \n",
       "3         -1.014607      -0.569844       1.743090     0.035566  0.916013   \n",
       "4         -1.014607      -0.569844       1.743090     2.056114 -1.091687   \n",
       "...             ...            ...            ...          ...       ...   \n",
       "7995      -1.014607       1.754865      -0.573694    -0.582970 -1.091687   \n",
       "7996      -1.014607      -0.569844       1.743090     1.478815 -1.091687   \n",
       "7997       0.985604      -0.569844      -0.573694     0.901515  0.916013   \n",
       "7998      -1.014607      -0.569844       1.743090    -0.624205 -1.091687   \n",
       "7999      -1.014607       1.754865      -0.573694    -0.284011 -1.091687   \n",
       "\n",
       "           Age    Tenure   Balance  NumOfProducts  HasCrCard  IsActiveMember  \\\n",
       "0    -0.464608  0.006661 -1.215717       0.809503   0.642595       -1.032270   \n",
       "1     0.301026 -1.377440 -0.006312      -0.921591   0.642595        0.968738   \n",
       "2    -0.943129 -1.031415  0.579935      -0.921591   0.642595       -1.032270   \n",
       "3     0.109617  0.006661  0.473128      -0.921591   0.642595       -1.032270   \n",
       "4     1.736588  1.044737  0.810193       0.809503   0.642595        0.968738   \n",
       "...        ...       ...       ...            ...        ...             ...   \n",
       "7995 -0.656016 -0.339364  0.703104       0.809503   0.642595        0.968738   \n",
       "7996 -1.613058 -0.339364  0.613060      -0.921591   0.642595        0.968738   \n",
       "7997 -0.368904  0.006661  1.361474       0.809503   0.642595       -1.032270   \n",
       "7998 -0.081791  1.390762 -1.215717       0.809503   0.642595        0.968738   \n",
       "7999  0.875251 -1.377440  0.511364      -0.921591   0.642595       -1.032270   \n",
       "\n",
       "      EstimatedSalary  \n",
       "0            1.106432  \n",
       "1           -0.748664  \n",
       "2            1.485335  \n",
       "3            1.276528  \n",
       "4            0.558378  \n",
       "...               ...  \n",
       "7995         1.091330  \n",
       "7996         0.131760  \n",
       "7997         1.412320  \n",
       "7998         0.844321  \n",
       "7999         0.324725  \n",
       "\n",
       "[8000 rows x 12 columns]"
      ]
     },
     "execution_count": 12,
     "metadata": {},
     "output_type": "execute_result"
    }
   ],
   "source": [
    "pd.DataFrame(X_train, columns=columns)"
   ]
  },
  {
   "cell_type": "markdown",
   "metadata": {
    "id": "-zfEzkRVXIwF"
   },
   "source": [
    "## Part 2 - Building the ANN"
   ]
  },
  {
   "cell_type": "markdown",
   "metadata": {
    "id": "KvdeScabXtlB"
   },
   "source": [
    "### Initializing the ANN"
   ]
  },
  {
   "cell_type": "code",
   "execution_count": 13,
   "metadata": {
    "executionInfo": {
     "elapsed": 371,
     "status": "ok",
     "timestamp": 1722676592896,
     "user": {
      "displayName": "Prasad Kothavale",
      "userId": "10495584458443329463"
     },
     "user_tz": -60
    },
    "id": "3dtrScHxXQox"
   },
   "outputs": [
    {
     "name": "stderr",
     "output_type": "stream",
     "text": [
      "2024-08-11 09:52:34.386482: I tensorflow/compiler/jit/xla_cpu_device.cc:41] Not creating XLA devices, tf_xla_enable_xla_devices not set\n",
      "2024-08-11 09:52:34.387077: I tensorflow/stream_executor/platform/default/dso_loader.cc:49] Successfully opened dynamic library libcuda.so.1\n",
      "2024-08-11 09:52:34.514650: I tensorflow/stream_executor/cuda/cuda_gpu_executor.cc:941] successful NUMA node read from SysFS had negative value (-1), but there must be at least one NUMA node, so returning NUMA node zero\n",
      "2024-08-11 09:52:34.518041: I tensorflow/core/common_runtime/gpu/gpu_device.cc:1720] Found device 0 with properties: \n",
      "pciBusID: 0000:01:00.0 name: NVIDIA GeForce RTX 4060 Laptop GPU computeCapability: 8.9\n",
      "coreClock: 2.01GHz coreCount: 24 deviceMemorySize: 7.63GiB deviceMemoryBandwidth: 238.45GiB/s\n",
      "2024-08-11 09:52:34.518055: I tensorflow/stream_executor/platform/default/dso_loader.cc:49] Successfully opened dynamic library libcudart.so.10.1\n",
      "2024-08-11 09:52:34.519127: I tensorflow/stream_executor/platform/default/dso_loader.cc:49] Successfully opened dynamic library libcublas.so.10\n",
      "2024-08-11 09:52:34.519153: I tensorflow/stream_executor/platform/default/dso_loader.cc:49] Successfully opened dynamic library libcublasLt.so.10\n",
      "2024-08-11 09:52:34.520244: I tensorflow/stream_executor/platform/default/dso_loader.cc:49] Successfully opened dynamic library libcufft.so.10\n",
      "2024-08-11 09:52:34.520451: I tensorflow/stream_executor/platform/default/dso_loader.cc:49] Successfully opened dynamic library libcurand.so.10\n",
      "2024-08-11 09:52:34.521651: I tensorflow/stream_executor/platform/default/dso_loader.cc:49] Successfully opened dynamic library libcusolver.so.10\n",
      "2024-08-11 09:52:34.522244: I tensorflow/stream_executor/platform/default/dso_loader.cc:49] Successfully opened dynamic library libcusparse.so.10\n",
      "2024-08-11 09:52:34.524602: I tensorflow/stream_executor/platform/default/dso_loader.cc:49] Successfully opened dynamic library libcudnn.so.7\n",
      "2024-08-11 09:52:34.524745: I tensorflow/stream_executor/cuda/cuda_gpu_executor.cc:941] successful NUMA node read from SysFS had negative value (-1), but there must be at least one NUMA node, so returning NUMA node zero\n",
      "2024-08-11 09:52:34.528400: I tensorflow/stream_executor/cuda/cuda_gpu_executor.cc:941] successful NUMA node read from SysFS had negative value (-1), but there must be at least one NUMA node, so returning NUMA node zero\n",
      "2024-08-11 09:52:34.530986: I tensorflow/core/common_runtime/gpu/gpu_device.cc:1862] Adding visible gpu devices: 0\n",
      "2024-08-11 09:52:34.531326: I tensorflow/core/platform/cpu_feature_guard.cc:142] This TensorFlow binary is optimized with oneAPI Deep Neural Network Library (oneDNN) to use the following CPU instructions in performance-critical operations:  SSE4.1 SSE4.2 AVX AVX2 AVX512F FMA\n",
      "To enable them in other operations, rebuild TensorFlow with the appropriate compiler flags.\n",
      "2024-08-11 09:52:34.532427: I tensorflow/compiler/jit/xla_gpu_device.cc:99] Not creating XLA devices, tf_xla_enable_xla_devices not set\n",
      "2024-08-11 09:52:34.532538: I tensorflow/stream_executor/cuda/cuda_gpu_executor.cc:941] successful NUMA node read from SysFS had negative value (-1), but there must be at least one NUMA node, so returning NUMA node zero\n",
      "2024-08-11 09:52:34.536418: I tensorflow/core/common_runtime/gpu/gpu_device.cc:1720] Found device 0 with properties: \n",
      "pciBusID: 0000:01:00.0 name: NVIDIA GeForce RTX 4060 Laptop GPU computeCapability: 8.9\n",
      "coreClock: 2.01GHz coreCount: 24 deviceMemorySize: 7.63GiB deviceMemoryBandwidth: 238.45GiB/s\n",
      "2024-08-11 09:52:34.536433: I tensorflow/stream_executor/platform/default/dso_loader.cc:49] Successfully opened dynamic library libcudart.so.10.1\n",
      "2024-08-11 09:52:34.536448: I tensorflow/stream_executor/platform/default/dso_loader.cc:49] Successfully opened dynamic library libcublas.so.10\n",
      "2024-08-11 09:52:34.536456: I tensorflow/stream_executor/platform/default/dso_loader.cc:49] Successfully opened dynamic library libcublasLt.so.10\n",
      "2024-08-11 09:52:34.536462: I tensorflow/stream_executor/platform/default/dso_loader.cc:49] Successfully opened dynamic library libcufft.so.10\n",
      "2024-08-11 09:52:34.536468: I tensorflow/stream_executor/platform/default/dso_loader.cc:49] Successfully opened dynamic library libcurand.so.10\n",
      "2024-08-11 09:52:34.536476: I tensorflow/stream_executor/platform/default/dso_loader.cc:49] Successfully opened dynamic library libcusolver.so.10\n",
      "2024-08-11 09:52:34.536482: I tensorflow/stream_executor/platform/default/dso_loader.cc:49] Successfully opened dynamic library libcusparse.so.10\n",
      "2024-08-11 09:52:34.536488: I tensorflow/stream_executor/platform/default/dso_loader.cc:49] Successfully opened dynamic library libcudnn.so.7\n",
      "2024-08-11 09:52:34.536529: I tensorflow/stream_executor/cuda/cuda_gpu_executor.cc:941] successful NUMA node read from SysFS had negative value (-1), but there must be at least one NUMA node, so returning NUMA node zero\n",
      "2024-08-11 09:52:34.538922: I tensorflow/stream_executor/cuda/cuda_gpu_executor.cc:941] successful NUMA node read from SysFS had negative value (-1), but there must be at least one NUMA node, so returning NUMA node zero\n",
      "2024-08-11 09:52:34.542780: I tensorflow/core/common_runtime/gpu/gpu_device.cc:1862] Adding visible gpu devices: 0\n",
      "2024-08-11 09:52:34.542799: I tensorflow/stream_executor/platform/default/dso_loader.cc:49] Successfully opened dynamic library libcudart.so.10.1\n",
      "2024-08-11 09:52:35.520945: I tensorflow/core/common_runtime/gpu/gpu_device.cc:1261] Device interconnect StreamExecutor with strength 1 edge matrix:\n",
      "2024-08-11 09:52:35.520966: I tensorflow/core/common_runtime/gpu/gpu_device.cc:1267]      0 \n",
      "2024-08-11 09:52:35.520971: I tensorflow/core/common_runtime/gpu/gpu_device.cc:1280] 0:   N \n",
      "2024-08-11 09:52:35.521234: I tensorflow/stream_executor/cuda/cuda_gpu_executor.cc:941] successful NUMA node read from SysFS had negative value (-1), but there must be at least one NUMA node, so returning NUMA node zero\n",
      "2024-08-11 09:52:35.522804: I tensorflow/stream_executor/cuda/cuda_gpu_executor.cc:941] successful NUMA node read from SysFS had negative value (-1), but there must be at least one NUMA node, so returning NUMA node zero\n",
      "2024-08-11 09:52:35.524066: I tensorflow/stream_executor/cuda/cuda_gpu_executor.cc:941] successful NUMA node read from SysFS had negative value (-1), but there must be at least one NUMA node, so returning NUMA node zero\n",
      "2024-08-11 09:52:35.525523: I tensorflow/core/common_runtime/gpu/gpu_device.cc:1406] Created TensorFlow device (/job:localhost/replica:0/task:0/device:GPU:0 with 5689 MB memory) -> physical GPU (device: 0, name: NVIDIA GeForce RTX 4060 Laptop GPU, pci bus id: 0000:01:00.0, compute capability: 8.9)\n"
     ]
    }
   ],
   "source": [
    "ann = tf.keras.models.Sequential()"
   ]
  },
  {
   "cell_type": "markdown",
   "metadata": {
    "id": "rP6urV6SX7kS"
   },
   "source": [
    "### Adding the input layer and the first hidden layer"
   ]
  },
  {
   "cell_type": "code",
   "execution_count": 14,
   "metadata": {
    "executionInfo": {
     "elapsed": 2,
     "status": "ok",
     "timestamp": 1722676594368,
     "user": {
      "displayName": "Prasad Kothavale",
      "userId": "10495584458443329463"
     },
     "user_tz": -60
    },
    "id": "bppGycBXYCQr"
   },
   "outputs": [],
   "source": [
    "ann.add(tf.keras.layers.Dense(units=6, activation='relu'))"
   ]
  },
  {
   "cell_type": "markdown",
   "metadata": {
    "id": "BELWAc_8YJze"
   },
   "source": [
    "### Adding the second hidden layer"
   ]
  },
  {
   "cell_type": "code",
   "execution_count": 15,
   "metadata": {
    "executionInfo": {
     "elapsed": 1,
     "status": "ok",
     "timestamp": 1722676596740,
     "user": {
      "displayName": "Prasad Kothavale",
      "userId": "10495584458443329463"
     },
     "user_tz": -60
    },
    "id": "JneR0u0sYRTd"
   },
   "outputs": [],
   "source": [
    "ann.add(tf.keras.layers.Dense(units=6, activation='relu'))"
   ]
  },
  {
   "cell_type": "markdown",
   "metadata": {
    "id": "OyNEe6RXYcU4"
   },
   "source": [
    "### Adding the output layer"
   ]
  },
  {
   "cell_type": "code",
   "execution_count": 16,
   "metadata": {
    "executionInfo": {
     "elapsed": 1,
     "status": "ok",
     "timestamp": 1722676597839,
     "user": {
      "displayName": "Prasad Kothavale",
      "userId": "10495584458443329463"
     },
     "user_tz": -60
    },
    "id": "Cn3x41RBYfvY"
   },
   "outputs": [],
   "source": [
    "ann.add(tf.keras.layers.Dense(units=1, activation='sigmoid'))"
   ]
  },
  {
   "cell_type": "markdown",
   "metadata": {
    "id": "JT4u2S1_Y4WG"
   },
   "source": [
    "## Part 3 - Training the ANN"
   ]
  },
  {
   "cell_type": "markdown",
   "metadata": {
    "id": "8GWlJChhY_ZI"
   },
   "source": [
    "### Compiling the ANN"
   ]
  },
  {
   "cell_type": "code",
   "execution_count": 17,
   "metadata": {
    "executionInfo": {
     "elapsed": 1,
     "status": "ok",
     "timestamp": 1722676601320,
     "user": {
      "displayName": "Prasad Kothavale",
      "userId": "10495584458443329463"
     },
     "user_tz": -60
    },
    "id": "fG3RrwDXZEaS"
   },
   "outputs": [],
   "source": [
    "ann.compile(optimizer = 'adam', loss = 'binary_crossentropy', metrics = ['accuracy'])"
   ]
  },
  {
   "cell_type": "markdown",
   "metadata": {
    "id": "0QR_G5u7ZLSM"
   },
   "source": [
    "### Training the ANN on the Training set"
   ]
  },
  {
   "cell_type": "code",
   "execution_count": 18,
   "metadata": {
    "colab": {
     "base_uri": "https://localhost:8080/"
    },
    "executionInfo": {
     "elapsed": 33656,
     "status": "ok",
     "timestamp": 1722676639157,
     "user": {
      "displayName": "Prasad Kothavale",
      "userId": "10495584458443329463"
     },
     "user_tz": -60
    },
    "id": "nHZ-LKv_ZRb3",
    "outputId": "75b75027-04ea-4f76-d209-aa4a4fe8fe87"
   },
   "outputs": [
    {
     "name": "stderr",
     "output_type": "stream",
     "text": [
      "2024-08-11 09:52:35.636197: I tensorflow/compiler/mlir/mlir_graph_optimization_pass.cc:116] None of the MLIR optimization passes are enabled (registered 2)\n",
      "2024-08-11 09:52:35.636452: I tensorflow/core/platform/profile_utils/cpu_utils.cc:112] CPU Frequency: 3793035000 Hz\n",
      "2024-08-11 09:52:35.779824: I tensorflow/stream_executor/platform/default/dso_loader.cc:49] Successfully opened dynamic library libcublas.so.10\n"
     ]
    },
    {
     "name": "stdout",
     "output_type": "stream",
     "text": [
      "Epoch 1/100\n",
      "250/250 [==============================] - 1s 635us/step - loss: 0.6473 - accuracy: 0.6148\n",
      "Epoch 2/100\n",
      "250/250 [==============================] - 0s 710us/step - loss: 0.4843 - accuracy: 0.8016\n",
      "Epoch 3/100\n",
      "250/250 [==============================] - 0s 721us/step - loss: 0.4725 - accuracy: 0.7869\n",
      "Epoch 4/100\n",
      "250/250 [==============================] - 0s 649us/step - loss: 0.4479 - accuracy: 0.7865\n",
      "Epoch 5/100\n",
      "250/250 [==============================] - 0s 673us/step - loss: 0.4235 - accuracy: 0.8083\n",
      "Epoch 6/100\n",
      "250/250 [==============================] - 0s 674us/step - loss: 0.4070 - accuracy: 0.8314\n",
      "Epoch 7/100\n",
      "250/250 [==============================] - 0s 671us/step - loss: 0.3919 - accuracy: 0.8413\n",
      "Epoch 8/100\n",
      "250/250 [==============================] - 0s 650us/step - loss: 0.3695 - accuracy: 0.8481\n",
      "Epoch 9/100\n",
      "250/250 [==============================] - 0s 683us/step - loss: 0.3642 - accuracy: 0.8542\n",
      "Epoch 10/100\n",
      "250/250 [==============================] - 0s 678us/step - loss: 0.3477 - accuracy: 0.8556\n",
      "Epoch 11/100\n",
      "250/250 [==============================] - 0s 698us/step - loss: 0.3385 - accuracy: 0.8615\n",
      "Epoch 12/100\n",
      "250/250 [==============================] - 0s 679us/step - loss: 0.3411 - accuracy: 0.8623\n",
      "Epoch 13/100\n",
      "250/250 [==============================] - 0s 671us/step - loss: 0.3538 - accuracy: 0.8541\n",
      "Epoch 14/100\n",
      "250/250 [==============================] - 0s 697us/step - loss: 0.3504 - accuracy: 0.8557\n",
      "Epoch 15/100\n",
      "250/250 [==============================] - 0s 673us/step - loss: 0.3516 - accuracy: 0.8545\n",
      "Epoch 16/100\n",
      "250/250 [==============================] - 0s 692us/step - loss: 0.3454 - accuracy: 0.8577\n",
      "Epoch 17/100\n",
      "250/250 [==============================] - 0s 679us/step - loss: 0.3427 - accuracy: 0.8588\n",
      "Epoch 18/100\n",
      "250/250 [==============================] - 0s 698us/step - loss: 0.3459 - accuracy: 0.8602\n",
      "Epoch 19/100\n",
      "250/250 [==============================] - 0s 668us/step - loss: 0.3406 - accuracy: 0.8613\n",
      "Epoch 20/100\n",
      "250/250 [==============================] - 0s 671us/step - loss: 0.3423 - accuracy: 0.8621\n",
      "Epoch 21/100\n",
      "250/250 [==============================] - 0s 681us/step - loss: 0.3504 - accuracy: 0.8553\n",
      "Epoch 22/100\n",
      "250/250 [==============================] - 0s 674us/step - loss: 0.3418 - accuracy: 0.8585\n",
      "Epoch 23/100\n",
      "250/250 [==============================] - 0s 634us/step - loss: 0.3404 - accuracy: 0.8610\n",
      "Epoch 24/100\n",
      "250/250 [==============================] - 0s 676us/step - loss: 0.3493 - accuracy: 0.8591\n",
      "Epoch 25/100\n",
      "250/250 [==============================] - 0s 666us/step - loss: 0.3486 - accuracy: 0.8589\n",
      "Epoch 26/100\n",
      "250/250 [==============================] - 0s 678us/step - loss: 0.3362 - accuracy: 0.8635\n",
      "Epoch 27/100\n",
      "250/250 [==============================] - 0s 659us/step - loss: 0.3444 - accuracy: 0.8595\n",
      "Epoch 28/100\n",
      "250/250 [==============================] - 0s 656us/step - loss: 0.3331 - accuracy: 0.8637\n",
      "Epoch 29/100\n",
      "250/250 [==============================] - 0s 654us/step - loss: 0.3256 - accuracy: 0.8714\n",
      "Epoch 30/100\n",
      "250/250 [==============================] - 0s 607us/step - loss: 0.3291 - accuracy: 0.8644\n",
      "Epoch 31/100\n",
      "250/250 [==============================] - 0s 604us/step - loss: 0.3561 - accuracy: 0.8538\n",
      "Epoch 32/100\n",
      "250/250 [==============================] - 0s 600us/step - loss: 0.3389 - accuracy: 0.8614\n",
      "Epoch 33/100\n",
      "250/250 [==============================] - 0s 607us/step - loss: 0.3435 - accuracy: 0.8584\n",
      "Epoch 34/100\n",
      "250/250 [==============================] - 0s 679us/step - loss: 0.3433 - accuracy: 0.8604\n",
      "Epoch 35/100\n",
      "250/250 [==============================] - 0s 613us/step - loss: 0.3414 - accuracy: 0.8595\n",
      "Epoch 36/100\n",
      "250/250 [==============================] - 0s 635us/step - loss: 0.3435 - accuracy: 0.8619\n",
      "Epoch 37/100\n",
      "250/250 [==============================] - 0s 625us/step - loss: 0.3330 - accuracy: 0.8637\n",
      "Epoch 38/100\n",
      "250/250 [==============================] - 0s 610us/step - loss: 0.3342 - accuracy: 0.8641\n",
      "Epoch 39/100\n",
      "250/250 [==============================] - 0s 613us/step - loss: 0.3412 - accuracy: 0.8609\n",
      "Epoch 40/100\n",
      "250/250 [==============================] - 0s 601us/step - loss: 0.3430 - accuracy: 0.8564\n",
      "Epoch 41/100\n",
      "250/250 [==============================] - 0s 680us/step - loss: 0.3360 - accuracy: 0.8644\n",
      "Epoch 42/100\n",
      "250/250 [==============================] - 0s 639us/step - loss: 0.3490 - accuracy: 0.8506\n",
      "Epoch 43/100\n",
      "250/250 [==============================] - 0s 628us/step - loss: 0.3428 - accuracy: 0.8597\n",
      "Epoch 44/100\n",
      "250/250 [==============================] - 0s 591us/step - loss: 0.3393 - accuracy: 0.8614\n",
      "Epoch 45/100\n",
      "250/250 [==============================] - 0s 608us/step - loss: 0.3343 - accuracy: 0.8650\n",
      "Epoch 46/100\n",
      "250/250 [==============================] - 0s 604us/step - loss: 0.3397 - accuracy: 0.8605\n",
      "Epoch 47/100\n",
      "250/250 [==============================] - 0s 596us/step - loss: 0.3286 - accuracy: 0.8654\n",
      "Epoch 48/100\n",
      "250/250 [==============================] - 0s 593us/step - loss: 0.3329 - accuracy: 0.8628\n",
      "Epoch 49/100\n",
      "250/250 [==============================] - 0s 672us/step - loss: 0.3420 - accuracy: 0.8638\n",
      "Epoch 50/100\n",
      "250/250 [==============================] - 0s 625us/step - loss: 0.3464 - accuracy: 0.8596\n",
      "Epoch 51/100\n",
      "250/250 [==============================] - 0s 619us/step - loss: 0.3389 - accuracy: 0.8593\n",
      "Epoch 52/100\n",
      "250/250 [==============================] - 0s 611us/step - loss: 0.3396 - accuracy: 0.8633\n",
      "Epoch 53/100\n",
      "250/250 [==============================] - 0s 602us/step - loss: 0.3426 - accuracy: 0.8550\n",
      "Epoch 54/100\n",
      "250/250 [==============================] - 0s 626us/step - loss: 0.3363 - accuracy: 0.8641\n",
      "Epoch 55/100\n",
      "250/250 [==============================] - 0s 654us/step - loss: 0.3399 - accuracy: 0.8618\n",
      "Epoch 56/100\n",
      "250/250 [==============================] - 0s 688us/step - loss: 0.3319 - accuracy: 0.8649\n",
      "Epoch 57/100\n",
      "250/250 [==============================] - 0s 588us/step - loss: 0.3520 - accuracy: 0.8557\n",
      "Epoch 58/100\n",
      "250/250 [==============================] - 0s 613us/step - loss: 0.3419 - accuracy: 0.8598\n",
      "Epoch 59/100\n",
      "250/250 [==============================] - 0s 618us/step - loss: 0.3364 - accuracy: 0.8600\n",
      "Epoch 60/100\n",
      "250/250 [==============================] - 0s 599us/step - loss: 0.3305 - accuracy: 0.8688\n",
      "Epoch 61/100\n",
      "250/250 [==============================] - 0s 600us/step - loss: 0.3366 - accuracy: 0.8602\n",
      "Epoch 62/100\n",
      "250/250 [==============================] - 0s 612us/step - loss: 0.3361 - accuracy: 0.8601\n",
      "Epoch 63/100\n",
      "250/250 [==============================] - 0s 634us/step - loss: 0.3369 - accuracy: 0.8641\n",
      "Epoch 64/100\n",
      "250/250 [==============================] - 0s 604us/step - loss: 0.3472 - accuracy: 0.8584\n",
      "Epoch 65/100\n",
      "250/250 [==============================] - 0s 597us/step - loss: 0.3329 - accuracy: 0.8651\n",
      "Epoch 66/100\n",
      "250/250 [==============================] - 0s 624us/step - loss: 0.3353 - accuracy: 0.8671\n",
      "Epoch 67/100\n",
      "250/250 [==============================] - 0s 597us/step - loss: 0.3363 - accuracy: 0.8601\n",
      "Epoch 68/100\n",
      "250/250 [==============================] - 0s 615us/step - loss: 0.3347 - accuracy: 0.8640\n",
      "Epoch 69/100\n",
      "250/250 [==============================] - 0s 646us/step - loss: 0.3399 - accuracy: 0.8608\n",
      "Epoch 70/100\n",
      "250/250 [==============================] - 0s 707us/step - loss: 0.3327 - accuracy: 0.8671\n",
      "Epoch 71/100\n",
      "250/250 [==============================] - 0s 612us/step - loss: 0.3314 - accuracy: 0.8617\n",
      "Epoch 72/100\n",
      "250/250 [==============================] - 0s 616us/step - loss: 0.3320 - accuracy: 0.8651\n",
      "Epoch 73/100\n",
      "250/250 [==============================] - 0s 609us/step - loss: 0.3332 - accuracy: 0.8610\n",
      "Epoch 74/100\n",
      "250/250 [==============================] - 0s 619us/step - loss: 0.3381 - accuracy: 0.8623\n",
      "Epoch 75/100\n",
      "250/250 [==============================] - 0s 614us/step - loss: 0.3329 - accuracy: 0.8656\n",
      "Epoch 76/100\n",
      "250/250 [==============================] - 0s 585us/step - loss: 0.3398 - accuracy: 0.8648\n",
      "Epoch 77/100\n",
      "250/250 [==============================] - 0s 591us/step - loss: 0.3322 - accuracy: 0.8654\n",
      "Epoch 78/100\n",
      "250/250 [==============================] - 0s 601us/step - loss: 0.3342 - accuracy: 0.8648\n",
      "Epoch 79/100\n",
      "250/250 [==============================] - 0s 593us/step - loss: 0.3204 - accuracy: 0.8741\n",
      "Epoch 80/100\n",
      "250/250 [==============================] - 0s 601us/step - loss: 0.3370 - accuracy: 0.8640\n",
      "Epoch 81/100\n",
      "250/250 [==============================] - 0s 619us/step - loss: 0.3288 - accuracy: 0.8664\n",
      "Epoch 82/100\n",
      "250/250 [==============================] - 0s 633us/step - loss: 0.3368 - accuracy: 0.8628\n",
      "Epoch 83/100\n",
      "250/250 [==============================] - 0s 674us/step - loss: 0.3370 - accuracy: 0.8639\n",
      "Epoch 84/100\n",
      "250/250 [==============================] - 0s 594us/step - loss: 0.3250 - accuracy: 0.8643\n",
      "Epoch 85/100\n",
      "250/250 [==============================] - 0s 588us/step - loss: 0.3406 - accuracy: 0.8582\n",
      "Epoch 86/100\n",
      "250/250 [==============================] - 0s 644us/step - loss: 0.3416 - accuracy: 0.8600\n",
      "Epoch 87/100\n",
      "250/250 [==============================] - 0s 623us/step - loss: 0.3351 - accuracy: 0.8614\n",
      "Epoch 88/100\n",
      "250/250 [==============================] - 0s 610us/step - loss: 0.3265 - accuracy: 0.8644\n",
      "Epoch 89/100\n",
      "250/250 [==============================] - 0s 618us/step - loss: 0.3289 - accuracy: 0.8619\n",
      "Epoch 90/100\n",
      "250/250 [==============================] - 0s 588us/step - loss: 0.3339 - accuracy: 0.8585\n",
      "Epoch 91/100\n",
      "250/250 [==============================] - 0s 592us/step - loss: 0.3321 - accuracy: 0.8631\n",
      "Epoch 92/100\n",
      "250/250 [==============================] - 0s 620us/step - loss: 0.3377 - accuracy: 0.8655\n",
      "Epoch 93/100\n",
      "250/250 [==============================] - 0s 613us/step - loss: 0.3320 - accuracy: 0.8653\n",
      "Epoch 94/100\n",
      "250/250 [==============================] - 0s 618us/step - loss: 0.3357 - accuracy: 0.8596\n",
      "Epoch 95/100\n",
      "250/250 [==============================] - 0s 626us/step - loss: 0.3281 - accuracy: 0.8643\n",
      "Epoch 96/100\n",
      "250/250 [==============================] - 0s 617us/step - loss: 0.3258 - accuracy: 0.8671\n",
      "Epoch 97/100\n",
      "250/250 [==============================] - 0s 614us/step - loss: 0.3389 - accuracy: 0.8577\n",
      "Epoch 98/100\n",
      "250/250 [==============================] - 0s 599us/step - loss: 0.3349 - accuracy: 0.8604\n",
      "Epoch 99/100\n",
      "250/250 [==============================] - 0s 593us/step - loss: 0.3355 - accuracy: 0.8642\n",
      "Epoch 100/100\n",
      "250/250 [==============================] - 0s 596us/step - loss: 0.3363 - accuracy: 0.8601\n"
     ]
    }
   ],
   "source": [
    "history = ann.fit(X_train, y_train, batch_size = 32, epochs = 100)"
   ]
  },
  {
   "cell_type": "code",
   "execution_count": 19,
   "metadata": {
    "colab": {
     "base_uri": "https://localhost:8080/",
     "height": 472
    },
    "executionInfo": {
     "elapsed": 433,
     "status": "ok",
     "timestamp": 1722676642914,
     "user": {
      "displayName": "Prasad Kothavale",
      "userId": "10495584458443329463"
     },
     "user_tz": -60
    },
    "id": "CWfINlJeJmZg",
    "outputId": "f10b9dc1-0124-41d3-b524-992670e9e31b"
   },
   "outputs": [
    {
     "data": {
      "image/png": "[encoded data removed]",
      "text/plain": [
       "<Figure size 640x480 with 1 Axes>"
      ]
     },
     "metadata": {},
     "output_type": "display_data"
    }
   ],
   "source": [
    "plt.plot(history.history['accuracy'])\n",
    "plt.plot(history.history['loss'])\n",
    "plt.title('model accuracy, loss')\n",
    "plt.ylabel('value')\n",
    "plt.xlabel('epoch')\n",
    "plt.legend(['Accuracy', 'Loss'])\n",
    "plt.show()"
   ]
  },
  {
   "cell_type": "markdown",
   "metadata": {
    "id": "tJj5k2MxZga3"
   },
   "source": [
    "## Part 4 - Making the predictions and evaluating the model"
   ]
  },
  {
   "cell_type": "markdown",
   "metadata": {
    "id": "84QFoqGYeXHL"
   },
   "source": [
    "### Predicting the result of a single observation"
   ]
  },
  {
   "cell_type": "markdown",
   "metadata": {
    "id": "CGRo3eacgDdC"
   },
   "source": [
    "**Homework**\n",
    "\n",
    "Use our ANN model to predict if the customer with the following informations will leave the bank:\n",
    "\n",
    "Geography: France\n",
    "\n",
    "Credit Score: 600\n",
    "\n",
    "Gender: Male\n",
    "\n",
    "Age: 40 years old\n",
    "\n",
    "Tenure: 3 years\n",
    "\n",
    "Balance: \\$ 60000\n",
    "\n",
    "Number of Products: 2\n",
    "\n",
    "Does this customer have a credit card? Yes\n",
    "\n",
    "Is this customer an Active Member: Yes\n",
    "\n",
    "Estimated Salary: \\$ 50000\n",
    "\n",
    "So, should we say goodbye to that customer?"
   ]
  },
  {
   "cell_type": "markdown",
   "metadata": {
    "id": "ZhU1LTgPg-kH"
   },
   "source": [
    "**Solution**"
   ]
  },
  {
   "cell_type": "code",
   "execution_count": 20,
   "metadata": {
    "colab": {
     "base_uri": "https://localhost:8080/",
     "height": 81
    },
    "executionInfo": {
     "elapsed": 398,
     "status": "ok",
     "timestamp": 1722676903550,
     "user": {
      "displayName": "Prasad Kothavale",
      "userId": "10495584458443329463"
     },
     "user_tz": -60
    },
    "id": "2d8IoCCkeWGL",
    "outputId": "12722a86-b5df-4245-d40f-4b5a1f77532c"
   },
   "outputs": [
    {
     "data": {
      "text/html": [
       "<div>\n",
       "<style scoped>\n",
       "    .dataframe tbody tr th:only-of-type {\n",
       "        vertical-align: middle;\n",
       "    }\n",
       "\n",
       "    .dataframe tbody tr th {\n",
       "        vertical-align: top;\n",
       "    }\n",
       "\n",
       "    .dataframe thead th {\n",
       "        text-align: right;\n",
       "    }\n",
       "</style>\n",
       "<table border=\"1\" class=\"dataframe\">\n",
       "  <thead>\n",
       "    <tr style=\"text-align: right;\">\n",
       "      <th></th>\n",
       "      <th>Geography [0]</th>\n",
       "      <th>Geography [1]</th>\n",
       "      <th>Geography [2]</th>\n",
       "      <th>CreditScore</th>\n",
       "      <th>Gender</th>\n",
       "      <th>Age</th>\n",
       "      <th>Tenure</th>\n",
       "      <th>Balance</th>\n",
       "      <th>NumOfProducts</th>\n",
       "      <th>HasCrCard</th>\n",
       "      <th>IsActiveMember</th>\n",
       "      <th>EstimatedSalary</th>\n",
       "    </tr>\n",
       "  </thead>\n",
       "  <tbody>\n",
       "    <tr>\n",
       "      <th>0</th>\n",
       "      <td>1</td>\n",
       "      <td>0</td>\n",
       "      <td>0</td>\n",
       "      <td>600</td>\n",
       "      <td>1</td>\n",
       "      <td>40</td>\n",
       "      <td>3</td>\n",
       "      <td>60000</td>\n",
       "      <td>2</td>\n",
       "      <td>1</td>\n",
       "      <td>1</td>\n",
       "      <td>50000</td>\n",
       "    </tr>\n",
       "  </tbody>\n",
       "</table>\n",
       "</div>"
      ],
      "text/plain": [
       "   Geography [0]  Geography [1]  Geography [2]  CreditScore  Gender  Age  \\\n",
       "0              1              0              0          600       1   40   \n",
       "\n",
       "   Tenure  Balance  NumOfProducts  HasCrCard  IsActiveMember  EstimatedSalary  \n",
       "0       3    60000              2          1               1            50000  "
      ]
     },
     "execution_count": 20,
     "metadata": {},
     "output_type": "execute_result"
    }
   ],
   "source": [
    "T = np.array([[1, 0, 0, 600, 1, 40, 3, 60000, 2, 1, 1, 50000]])\n",
    "pd.DataFrame(T, columns=columns)"
   ]
  },
  {
   "cell_type": "code",
   "execution_count": 21,
   "metadata": {
    "colab": {
     "base_uri": "https://localhost:8080/",
     "height": 81
    },
    "executionInfo": {
     "elapsed": 3,
     "status": "ok",
     "timestamp": 1722676934879,
     "user": {
      "displayName": "Prasad Kothavale",
      "userId": "10495584458443329463"
     },
     "user_tz": -60
    },
    "id": "6oOCAXGyi5JX",
    "outputId": "43255b10-99ce-48e3-ec11-6a125e05a640"
   },
   "outputs": [
    {
     "data": {
      "text/html": [
       "<div>\n",
       "<style scoped>\n",
       "    .dataframe tbody tr th:only-of-type {\n",
       "        vertical-align: middle;\n",
       "    }\n",
       "\n",
       "    .dataframe tbody tr th {\n",
       "        vertical-align: top;\n",
       "    }\n",
       "\n",
       "    .dataframe thead th {\n",
       "        text-align: right;\n",
       "    }\n",
       "</style>\n",
       "<table border=\"1\" class=\"dataframe\">\n",
       "  <thead>\n",
       "    <tr style=\"text-align: right;\">\n",
       "      <th></th>\n",
       "      <th>Geography [0]</th>\n",
       "      <th>Geography [1]</th>\n",
       "      <th>Geography [2]</th>\n",
       "      <th>CreditScore</th>\n",
       "      <th>Gender</th>\n",
       "      <th>Age</th>\n",
       "      <th>Tenure</th>\n",
       "      <th>Balance</th>\n",
       "      <th>NumOfProducts</th>\n",
       "      <th>HasCrCard</th>\n",
       "      <th>IsActiveMember</th>\n",
       "      <th>EstimatedSalary</th>\n",
       "    </tr>\n",
       "  </thead>\n",
       "  <tbody>\n",
       "    <tr>\n",
       "      <th>0</th>\n",
       "      <td>0.985604</td>\n",
       "      <td>-0.569844</td>\n",
       "      <td>-0.573694</td>\n",
       "      <td>-0.521116</td>\n",
       "      <td>0.916013</td>\n",
       "      <td>0.109617</td>\n",
       "      <td>-0.68539</td>\n",
       "      <td>-0.256906</td>\n",
       "      <td>0.809503</td>\n",
       "      <td>0.642595</td>\n",
       "      <td>0.968738</td>\n",
       "      <td>-0.872033</td>\n",
       "    </tr>\n",
       "  </tbody>\n",
       "</table>\n",
       "</div>"
      ],
      "text/plain": [
       "   Geography [0]  Geography [1]  Geography [2]  CreditScore    Gender  \\\n",
       "0       0.985604      -0.569844      -0.573694    -0.521116  0.916013   \n",
       "\n",
       "        Age   Tenure   Balance  NumOfProducts  HasCrCard  IsActiveMember  \\\n",
       "0  0.109617 -0.68539 -0.256906       0.809503   0.642595        0.968738   \n",
       "\n",
       "   EstimatedSalary  \n",
       "0        -0.872033  "
      ]
     },
     "execution_count": 21,
     "metadata": {},
     "output_type": "execute_result"
    }
   ],
   "source": [
    "T = sc.transform(T)\n",
    "pd.DataFrame(T, columns=columns)"
   ]
  },
  {
   "cell_type": "code",
   "execution_count": 22,
   "metadata": {
    "colab": {
     "base_uri": "https://localhost:8080/"
    },
    "executionInfo": {
     "elapsed": 877,
     "status": "ok",
     "timestamp": 1722677237117,
     "user": {
      "displayName": "Prasad Kothavale",
      "userId": "10495584458443329463"
     },
     "user_tz": -60
    },
    "id": "iH0ofFbwOqUO",
    "outputId": "8817d0fd-910d-42a0-bd68-3aadcdc7d4ed"
   },
   "outputs": [
    {
     "name": "stdout",
     "output_type": "stream",
     "text": [
      "[[0.0214437]]\n"
     ]
    }
   ],
   "source": [
    "print(ann.predict(T))"
   ]
  },
  {
   "cell_type": "markdown",
   "metadata": {
    "id": "wGjx94g2n7OV"
   },
   "source": [
    "Therefore, our ANN model predicts that this customer stays in the bank!\n",
    "\n",
    "**Important note 1:** Notice that the values of the features were all input in a double pair of square brackets. That's because the \"predict\" method always expects a 2D array as the format of its inputs. And putting our values into a double pair of square brackets makes the input exactly a 2D array.\n",
    "\n",
    "**Important note 2:** Notice also that the \"France\" country was not input as a string in the last column but as \"1, 0, 0\" in the first three columns. That's because of course the predict method expects the one-hot-encoded values of the state, and as we see in the first row of the matrix of features X, \"France\" was encoded as \"1, 0, 0\". And be careful to include these values in the first three columns, because the dummy variables are always created in the first columns."
   ]
  },
  {
   "cell_type": "markdown",
   "metadata": {
    "id": "u7yx47jPZt11"
   },
   "source": [
    "### Predicting the Test set results"
   ]
  },
  {
   "cell_type": "code",
   "execution_count": 23,
   "metadata": {
    "colab": {
     "base_uri": "https://localhost:8080/"
    },
    "executionInfo": {
     "elapsed": 752,
     "status": "ok",
     "timestamp": 1722677450850,
     "user": {
      "displayName": "Prasad Kothavale",
      "userId": "10495584458443329463"
     },
     "user_tz": -60
    },
    "id": "nIyEeQdRZwgs",
    "outputId": "5569425d-9e29-4738-ba1f-2bf3eeddd559"
   },
   "outputs": [
    {
     "data": {
      "text/plain": [
       "array([[0, 0],\n",
       "       [0, 1],\n",
       "       [0, 0],\n",
       "       ...,\n",
       "       [0, 0],\n",
       "       [0, 0],\n",
       "       [0, 0]])"
      ]
     },
     "execution_count": 23,
     "metadata": {},
     "output_type": "execute_result"
    }
   ],
   "source": [
    "y_pred = ann.predict(X_test)\n",
    "y_pred = (y_pred > 0.5)\n",
    "np.concatenate((y_pred.reshape(len(y_pred),1), y_test.reshape(len(y_test),1)),1)"
   ]
  },
  {
   "cell_type": "markdown",
   "metadata": {
    "id": "o0oyfLWoaEGw"
   },
   "source": [
    "### Making the Confusion Matrix"
   ]
  },
  {
   "cell_type": "code",
   "execution_count": 24,
   "metadata": {
    "colab": {
     "base_uri": "https://localhost:8080/"
    },
    "executionInfo": {
     "elapsed": 242,
     "status": "ok",
     "timestamp": 1722187628931,
     "user": {
      "displayName": "Prasad Kothavale",
      "userId": "10495584458443329463"
     },
     "user_tz": -60
    },
    "id": "ci6K_r6LaF6P",
    "outputId": "81d0d687-07f7-47db-dcef-2cd67d77a78a"
   },
   "outputs": [
    {
     "data": {
      "text/html": [
       "<div>\n",
       "<style scoped>\n",
       "    .dataframe tbody tr th:only-of-type {\n",
       "        vertical-align: middle;\n",
       "    }\n",
       "\n",
       "    .dataframe tbody tr th {\n",
       "        vertical-align: top;\n",
       "    }\n",
       "\n",
       "    .dataframe thead th {\n",
       "        text-align: right;\n",
       "    }\n",
       "</style>\n",
       "<table border=\"1\" class=\"dataframe\">\n",
       "  <thead>\n",
       "    <tr style=\"text-align: right;\">\n",
       "      <th></th>\n",
       "      <th>Predictions</th>\n",
       "      <th>correct</th>\n",
       "      <th>incorrect</th>\n",
       "    </tr>\n",
       "  </thead>\n",
       "  <tbody>\n",
       "    <tr>\n",
       "      <th>0</th>\n",
       "      <td>Customer will stay</td>\n",
       "      <td>1506</td>\n",
       "      <td>89</td>\n",
       "    </tr>\n",
       "    <tr>\n",
       "      <th>1</th>\n",
       "      <td>Customer will leave</td>\n",
       "      <td>194</td>\n",
       "      <td>211</td>\n",
       "    </tr>\n",
       "  </tbody>\n",
       "</table>\n",
       "</div>"
      ],
      "text/plain": [
       "           Predictions  correct  incorrect\n",
       "0   Customer will stay     1506         89\n",
       "1  Customer will leave      194        211"
      ]
     },
     "execution_count": 24,
     "metadata": {},
     "output_type": "execute_result"
    }
   ],
   "source": [
    "from sklearn.metrics import confusion_matrix, accuracy_score\n",
    "cm = confusion_matrix(y_test, y_pred)\n",
    "cmDf = pd.concat([pd.DataFrame([['Customer will stay'], ['Customer will leave']], columns=['Predictions']), pd.DataFrame(cm, columns=['correct', 'incorrect'])], axis=1)\n",
    "cmDf.set_index(['Predictions'])\n",
    "cmDf"
   ]
  },
  {
   "cell_type": "code",
   "execution_count": 25,
   "metadata": {},
   "outputs": [
    {
     "data": {
      "text/plain": [
       "0.8585"
      ]
     },
     "execution_count": 25,
     "metadata": {},
     "output_type": "execute_result"
    }
   ],
   "source": [
    "accuracy_score(y_test, y_pred)"
   ]
  }
 ],
 "metadata": {
  "colab": {
   "provenance": []
  },
  "kernelspec": {
   "display_name": "Python 3 (ipykernel)",
   "language": "python",
   "name": "python3"
  },
  "language_info": {
   "codemirror_mode": {
    "name": "ipython",
    "version": 3
   },
   "file_extension": ".py",
   "mimetype": "text/x-python",
   "name": "python",
   "nbconvert_exporter": "python",
   "pygments_lexer": "ipython3",
   "version": "3.9.19"
  }
 },
 "nbformat": 4,
 "nbformat_minor": 4
}
